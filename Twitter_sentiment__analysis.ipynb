{
  "nbformat": 4,
  "nbformat_minor": 0,
  "metadata": {
    "colab": {
      "provenance": [],
      "authorship_tag": "ABX9TyPXbtggtQ+h3nimMRrztqGk",
      "include_colab_link": true
    },
    "kernelspec": {
      "name": "python3",
      "display_name": "Python 3"
    },
    "language_info": {
      "name": "python"
    }
  },
  "cells": [
    {
      "cell_type": "markdown",
      "metadata": {
        "id": "view-in-github",
        "colab_type": "text"
      },
      "source": [
        "<a href=\"https://colab.research.google.com/github/Anupa-123/Twitter_sentiment_analysis/blob/main/Twitter_sentiment__analysis.ipynb\" target=\"_parent\"><img src=\"https://colab.research.google.com/assets/colab-badge.svg\" alt=\"Open In Colab\"/></a>"
      ]
    },
    {
      "cell_type": "code",
      "source": [
        "pip install secret"
      ],
      "metadata": {
        "colab": {
          "base_uri": "https://localhost:8080/"
        },
        "id": "tiObXHmEFxMh",
        "outputId": "9872bb49-6726-4876-8594-14bd822cd216"
      },
      "execution_count": 1,
      "outputs": [
        {
          "output_type": "stream",
          "name": "stdout",
          "text": [
            "Looking in indexes: https://pypi.org/simple, https://us-python.pkg.dev/colab-wheels/public/simple/\n",
            "Collecting secret\n",
            "  Downloading secret-0.8.tar.gz (8.5 kB)\n",
            "  Preparing metadata (setup.py) ... \u001b[?25l\u001b[?25hdone\n",
            "Collecting boto3>=1.2.3\n",
            "  Downloading boto3-1.26.119-py3-none-any.whl (135 kB)\n",
            "\u001b[2K     \u001b[90m━━━━━━━━━━━━━━━━━━━━━━━━━━━━━━━━━━━━━━━\u001b[0m \u001b[32m135.6/135.6 kB\u001b[0m \u001b[31m2.4 MB/s\u001b[0m eta \u001b[36m0:00:00\u001b[0m\n",
            "\u001b[?25hCollecting pycryptodome>=3.1\n",
            "  Downloading pycryptodome-3.17-cp35-abi3-manylinux_2_17_x86_64.manylinux2014_x86_64.whl (2.1 MB)\n",
            "\u001b[2K     \u001b[90m━━━━━━━━━━━━━━━━━━━━━━━━━━━━━━━━━━━━━━━━\u001b[0m \u001b[32m2.1/2.1 MB\u001b[0m \u001b[31m24.8 MB/s\u001b[0m eta \u001b[36m0:00:00\u001b[0m\n",
            "\u001b[?25hRequirement already satisfied: tabulate>=0.7.5 in /usr/local/lib/python3.9/dist-packages (from secret) (0.8.10)\n",
            "Requirement already satisfied: pytest>=2.8.5 in /usr/local/lib/python3.9/dist-packages (from secret) (7.2.2)\n",
            "Requirement already satisfied: six in /usr/local/lib/python3.9/dist-packages (from secret) (1.16.0)\n",
            "Collecting jmespath<2.0.0,>=0.7.1\n",
            "  Downloading jmespath-1.0.1-py3-none-any.whl (20 kB)\n",
            "Collecting s3transfer<0.7.0,>=0.6.0\n",
            "  Downloading s3transfer-0.6.0-py3-none-any.whl (79 kB)\n",
            "\u001b[2K     \u001b[90m━━━━━━━━━━━━━━━━━━━━━━━━━━━━━━━━━━━━━━━━\u001b[0m \u001b[32m79.6/79.6 kB\u001b[0m \u001b[31m4.4 MB/s\u001b[0m eta \u001b[36m0:00:00\u001b[0m\n",
            "\u001b[?25hCollecting botocore<1.30.0,>=1.29.119\n",
            "  Downloading botocore-1.29.119-py3-none-any.whl (10.7 MB)\n",
            "\u001b[2K     \u001b[90m━━━━━━━━━━━━━━━━━━━━━━━━━━━━━━━━━━━━━━━━\u001b[0m \u001b[32m10.7/10.7 MB\u001b[0m \u001b[31m72.5 MB/s\u001b[0m eta \u001b[36m0:00:00\u001b[0m\n",
            "\u001b[?25hRequirement already satisfied: tomli>=1.0.0 in /usr/local/lib/python3.9/dist-packages (from pytest>=2.8.5->secret) (2.0.1)\n",
            "Requirement already satisfied: iniconfig in /usr/local/lib/python3.9/dist-packages (from pytest>=2.8.5->secret) (2.0.0)\n",
            "Requirement already satisfied: attrs>=19.2.0 in /usr/local/lib/python3.9/dist-packages (from pytest>=2.8.5->secret) (23.1.0)\n",
            "Requirement already satisfied: packaging in /usr/local/lib/python3.9/dist-packages (from pytest>=2.8.5->secret) (23.1)\n",
            "Requirement already satisfied: exceptiongroup>=1.0.0rc8 in /usr/local/lib/python3.9/dist-packages (from pytest>=2.8.5->secret) (1.1.1)\n",
            "Requirement already satisfied: pluggy<2.0,>=0.12 in /usr/local/lib/python3.9/dist-packages (from pytest>=2.8.5->secret) (1.0.0)\n",
            "Requirement already satisfied: python-dateutil<3.0.0,>=2.1 in /usr/local/lib/python3.9/dist-packages (from botocore<1.30.0,>=1.29.119->boto3>=1.2.3->secret) (2.8.2)\n",
            "Requirement already satisfied: urllib3<1.27,>=1.25.4 in /usr/local/lib/python3.9/dist-packages (from botocore<1.30.0,>=1.29.119->boto3>=1.2.3->secret) (1.26.15)\n",
            "Building wheels for collected packages: secret\n",
            "  Building wheel for secret (setup.py) ... \u001b[?25l\u001b[?25hdone\n",
            "  Created wheel for secret: filename=secret-0.8-py3-none-any.whl size=9099 sha256=f7fbac03be487915c094e70ffa3fa6fd40729d76db869b85165dc556a199b4d3\n",
            "  Stored in directory: /root/.cache/pip/wheels/58/aa/49/392eef7d8ce149344fbacfeebff380a525cdd552d18c88ee8d\n",
            "Successfully built secret\n",
            "Installing collected packages: pycryptodome, jmespath, botocore, s3transfer, boto3, secret\n",
            "Successfully installed boto3-1.26.119 botocore-1.29.119 jmespath-1.0.1 pycryptodome-3.17 s3transfer-0.6.0 secret-0.8\n"
          ]
        }
      ]
    },
    {
      "cell_type": "code",
      "source": [
        "pip install pycurl"
      ],
      "metadata": {
        "colab": {
          "base_uri": "https://localhost:8080/"
        },
        "id": "C456KddOMaDi",
        "outputId": "7a33d937-d22d-457a-c1cd-1aecde7d1c8b"
      },
      "execution_count": 2,
      "outputs": [
        {
          "output_type": "stream",
          "name": "stdout",
          "text": [
            "Looking in indexes: https://pypi.org/simple, https://us-python.pkg.dev/colab-wheels/public/simple/\n",
            "Collecting pycurl\n",
            "  Downloading pycurl-7.45.2.tar.gz (234 kB)\n",
            "\u001b[2K     \u001b[90m━━━━━━━━━━━━━━━━━━━━━━━━━━━━━━━━━━━━━━━\u001b[0m \u001b[32m234.2/234.2 kB\u001b[0m \u001b[31m5.8 MB/s\u001b[0m eta \u001b[36m0:00:00\u001b[0m\n",
            "\u001b[?25h  Preparing metadata (setup.py) ... \u001b[?25l\u001b[?25hdone\n",
            "Building wheels for collected packages: pycurl\n",
            "  Building wheel for pycurl (setup.py) ... \u001b[?25l\u001b[?25hdone\n",
            "  Created wheel for pycurl: filename=pycurl-7.45.2-cp39-cp39-linux_x86_64.whl size=334181 sha256=6dfacb0a8b62bd17a3b9dd895cc5802663797803d859e0702c9f5e6df72cd10e\n",
            "  Stored in directory: /root/.cache/pip/wheels/23/b0/37/d2c3211ee738adfb8ec6b6e10aa00e78ebc4de363f862a12c5\n",
            "Successfully built pycurl\n",
            "Installing collected packages: pycurl\n",
            "Successfully installed pycurl-7.45.2\n"
          ]
        }
      ]
    },
    {
      "cell_type": "code",
      "source": [
        "pip install oauth2"
      ],
      "metadata": {
        "colab": {
          "base_uri": "https://localhost:8080/"
        },
        "id": "SVJ6RtkFNNN6",
        "outputId": "4744fdf8-1707-4709-afa4-d922c5607f4a"
      },
      "execution_count": 3,
      "outputs": [
        {
          "output_type": "stream",
          "name": "stdout",
          "text": [
            "Looking in indexes: https://pypi.org/simple, https://us-python.pkg.dev/colab-wheels/public/simple/\n",
            "Collecting oauth2\n",
            "  Downloading oauth2-1.9.0.post1-py2.py3-none-any.whl (25 kB)\n",
            "Requirement already satisfied: httplib2 in /usr/local/lib/python3.9/dist-packages (from oauth2) (0.21.0)\n",
            "Requirement already satisfied: pyparsing!=3.0.0,!=3.0.1,!=3.0.2,!=3.0.3,<4,>=2.4.2 in /usr/local/lib/python3.9/dist-packages (from httplib2->oauth2) (3.0.9)\n",
            "Installing collected packages: oauth2\n",
            "Successfully installed oauth2-1.9.0.post1\n"
          ]
        }
      ]
    },
    {
      "cell_type": "code",
      "source": [
        "pip install config"
      ],
      "metadata": {
        "colab": {
          "base_uri": "https://localhost:8080/"
        },
        "id": "WXl0bNXSRhNp",
        "outputId": "7fabee2f-6549-4b9d-dee3-66ba02650996"
      },
      "execution_count": 4,
      "outputs": [
        {
          "output_type": "stream",
          "name": "stdout",
          "text": [
            "Looking in indexes: https://pypi.org/simple, https://us-python.pkg.dev/colab-wheels/public/simple/\n",
            "Collecting config\n",
            "  Downloading config-0.5.1-py2.py3-none-any.whl (20 kB)\n",
            "Installing collected packages: config\n",
            "Successfully installed config-0.5.1\n"
          ]
        }
      ]
    },
    {
      "cell_type": "code",
      "source": [
        "pip install twitter"
      ],
      "metadata": {
        "colab": {
          "base_uri": "https://localhost:8080/"
        },
        "id": "mzMBXahDT02Y",
        "outputId": "079a2967-b1a1-4877-9c5f-4d0c56ed4140"
      },
      "execution_count": 5,
      "outputs": [
        {
          "output_type": "stream",
          "name": "stdout",
          "text": [
            "Looking in indexes: https://pypi.org/simple, https://us-python.pkg.dev/colab-wheels/public/simple/\n",
            "Collecting twitter\n",
            "  Downloading twitter-1.19.6-py2.py3-none-any.whl (50 kB)\n",
            "\u001b[2K     \u001b[90m━━━━━━━━━━━━━━━━━━━━━━━━━━━━━━━━━━━━━━━━\u001b[0m \u001b[32m50.3/50.3 kB\u001b[0m \u001b[31m3.3 MB/s\u001b[0m eta \u001b[36m0:00:00\u001b[0m\n",
            "\u001b[?25hRequirement already satisfied: certifi in /usr/local/lib/python3.9/dist-packages (from twitter) (2022.12.7)\n",
            "Installing collected packages: twitter\n",
            "Successfully installed twitter-1.19.6\n"
          ]
        }
      ]
    },
    {
      "cell_type": "code",
      "source": [
        "pip install *"
      ],
      "metadata": {
        "colab": {
          "base_uri": "https://localhost:8080/"
        },
        "id": "0N-i6gQvYoE7",
        "outputId": "4a0b9ed6-1914-4ce7-b7b6-fb6f99bc4693"
      },
      "execution_count": 6,
      "outputs": [
        {
          "output_type": "stream",
          "name": "stdout",
          "text": [
            "Looking in indexes: https://pypi.org/simple, https://us-python.pkg.dev/colab-wheels/public/simple/\n",
            "Collecting sample_data\n",
            "  Downloading sample_data-0.1.0-py3-none-any.whl (971 kB)\n",
            "\u001b[2K     \u001b[90m━━━━━━━━━━━━━━━━━━━━━━━━━━━━━━━━━━━━━━\u001b[0m \u001b[32m971.0/971.0 kB\u001b[0m \u001b[31m10.1 MB/s\u001b[0m eta \u001b[36m0:00:00\u001b[0m\n",
            "\u001b[?25hRequirement already satisfied: pandas in /usr/local/lib/python3.9/dist-packages (from sample_data) (1.5.3)\n",
            "Requirement already satisfied: python-dateutil>=2.8.1 in /usr/local/lib/python3.9/dist-packages (from pandas->sample_data) (2.8.2)\n",
            "Requirement already satisfied: numpy>=1.20.3 in /usr/local/lib/python3.9/dist-packages (from pandas->sample_data) (1.22.4)\n",
            "Requirement already satisfied: pytz>=2020.1 in /usr/local/lib/python3.9/dist-packages (from pandas->sample_data) (2022.7.1)\n",
            "Requirement already satisfied: six>=1.5 in /usr/local/lib/python3.9/dist-packages (from python-dateutil>=2.8.1->pandas->sample_data) (1.16.0)\n",
            "Installing collected packages: sample_data\n",
            "Successfully installed sample_data-0.1.0\n"
          ]
        }
      ]
    },
    {
      "cell_type": "code",
      "source": [
        "from flask import Flask\n",
        "from flask import Flask, flash, redirect, render_template, request, session, abort\n",
        "from flask import Markup\n",
        "import os"
      ],
      "metadata": {
        "id": "AtRr92XUdCid"
      },
      "execution_count": 7,
      "outputs": []
    },
    {
      "cell_type": "code",
      "source": [
        "\n",
        "app = Flask(__name__)\n",
        "app.config['SESSION_TYPE'] = 'filesystem'\n",
        "app.config['SECRET_KEY'] = 'reds209ndsldssdsljdsldsdsljdsldksdksdsdfsfsfsfis'\n",
        "#session.init_app(app)"
      ],
      "metadata": {
        "id": "F2LX0_rAdLLn"
      },
      "execution_count": 8,
      "outputs": []
    },
    {
      "cell_type": "code",
      "source": [
        "\n",
        "positive = 0\n",
        "negative = 0\n",
        "neutral = 0"
      ],
      "metadata": {
        "id": "JRJkSdN-dLGR"
      },
      "execution_count": 9,
      "outputs": []
    },
    {
      "cell_type": "code",
      "source": [
        "@app.route('/')\n",
        "def home():\n",
        "    if not session.get('searched'):\n",
        "        return render_template('search.html')\n",
        "    else:\n",
        "        labels = [\"Positive\", \"Negative\", \"Neutral\"]\n",
        "        global positive\n",
        "        global negative\n",
        "        global neutral\n",
        "        values = [positive, negative, neutral]\n",
        "        colors = [\"#8bc34a\", \"#ff5252\", \"#9e9e9e\"]\n",
        "        session['searched'] = False\n",
        "        return render_template('chart.html', set=zip(values, labels, colors))"
      ],
      "metadata": {
        "id": "IzeH-2QldMiQ"
      },
      "execution_count": 10,
      "outputs": []
    },
    {
      "cell_type": "code",
      "source": [
        "@app.route('/search', methods=['POST'])\n",
        "def do_search():\n",
        "    if request.form['search_query'] == '':\n",
        "        flash('Search Queary cannot be empty!')\n",
        "        session['searched'] = False\n",
        "    if request.form['max_tweets'] == '':\n",
        "        flash('Max Tweets cannot be empty!')\n",
        "        session['searched'] = False\n",
        "    else:\n",
        "        if not request.form['max_tweets'].isdigit():\n",
        "            flash('Max Tweets should be a number!')\n",
        "            session['searched'] = False\n",
        "        else:\n",
        "            if int(request.form['max_tweets']) > 0 & int(request.form['max_tweets']) <= 100000:\n",
        "                import tweepy\n",
        "                import sys\n",
        "                import csv\n",
        "                import pickle\n",
        "                from nltk.sentiment.vader import SentimentIntensityAnalyzer\n",
        "                from collections import Counter\n",
        "\n",
        "                # importing the auth variables from secret.py\n",
        "                import secret\n",
        "\n",
        "                # authenicating with authentication variables\n",
        "                auth = tweepy.OAuthHandler(secret.consumer_key, secret.consumer_secret)\n",
        "                auth.set_access_token(secret.access_token, secret.access_token_secret)\n",
        "                api = tweepy.API(auth, wait_on_rate_limit=True,\n",
        "                                 wait_on_rate_limit_notify=True)\n",
        "                # Error handling\n",
        "                if (not api):\n",
        "                    print(\"Problem Connecting to API\")\n",
        "\n",
        "                # inputs for counts taken\n",
        "                hash_tag = request.form['search_query']\n",
        "                number = int(request.form['max_tweets'])\n",
        "                # location = input(\"What is the location of party? \\n\")\n",
        "\n",
        "                # # Getting Geo ID for Places\n",
        "                # places = api.geo_search(query=location)\n",
        "                # # place id\n",
        "                # print(places[0])\n",
        "\n",
        "                tweetsPerQry = 100  # this is the max the API permits\n",
        "\n",
        "                # If results from a specific ID onwards are reqd, set since_id to that ID.\n",
        "                # else default to no lower limit, go as far back as API allows\n",
        "                sinceId = None\n",
        "\n",
        "                # If results only below a specific ID are, set max_id to that ID.\n",
        "                # else default to no upper limit, start from the most recent tweet matching the search query.\n",
        "                max_id = -1\n",
        "                data = None\n",
        "\n",
        "                dataset = []\n",
        "                outputFile = 'test.data'\n",
        "                fw = open(outputFile, 'wb')\n",
        "\n",
        "                tweetCount = 0\n",
        "                print(\"Downloading max {0} tweets\".format(number))\n",
        "                while tweetCount < number:\n",
        "                    try:\n",
        "                        if (max_id <= 0):\n",
        "                            if (not sinceId):\n",
        "                                new_tweets = api.search(q=hash_tag, count=tweetsPerQry, tweet_mode='extended', lang='en')\n",
        "                                tweetCount += len(new_tweets)\n",
        "                                print(\"Downloaded {0} tweets\".format(tweetCount))\n",
        "                            else:\n",
        "                                new_tweets = api.search(q=hash_tag, count=tweetsPerQry,\n",
        "                                                        since_id=sinceId, tweet_mode='extended', lang='en')\n",
        "                                print(\"here 2\")\n",
        "                        else:\n",
        "                            if (not sinceId):\n",
        "                                new_tweets = api.search(q=hash_tag, count=tweetsPerQry,\n",
        "                                                        max_id=str(max_id - 1), tweet_mode='extended', lang='en')\n",
        "                                print(\"here 3\")\n",
        "                            else:\n",
        "                                new_tweets = api.search(q=hash_tag, count=tweetsPerQry,\n",
        "                                                        max_id=str(max_id - 1),\n",
        "                                                        since_id=sinceId, tweet_mode='extended', lang='en')\n",
        "                                print(\"here 4\")\n",
        "                            if not new_tweets:\n",
        "                                print(\"No more tweets found\")\n",
        "                                break\n",
        "\n",
        "                        # print(new_tweets)\n",
        "\n",
        "                        tweets = new_tweets\n",
        "                        for tweet in tweets:\n",
        "                            dataset.append(tweet.full_text)\n",
        "                        #data += pd.DataFrame(data=[tweet.text for tweet in tweets], columns=['Tweets'])\n",
        "                        tweetCount += len(new_tweets)\n",
        "                        print(\"Downloaded {0} tweets\".format(tweetCount))\n",
        "                        max_id = new_tweets[-1].id\n",
        "                    except tweepy.TweepError as e:\n",
        "                        print(str(e))\n",
        "                        break\n",
        "                    \n",
        "                pickle.dump(dataset, fw)\n",
        "                fw.close()\n",
        "\n",
        "                inputFile = 'test.data'\n",
        "                fd = open(inputFile, 'rb')\n",
        "                dataset = pickle.load(fd)\n",
        "                print(dataset)\n",
        "\n"
      ],
      "metadata": {
        "id": "hWmcV7cAdS0w"
      },
      "execution_count": 11,
      "outputs": []
    },
    {
      "cell_type": "code",
      "source": [
        " # search tweets with some keywords\n",
        "                # results = api.search(hash_tag,\n",
        "                #                      count=number,\n",
        "                #                      since=\"2019-03-04\",\n",
        "                #                    until=\"2019-03-05\",\n",
        "                #                      tweet_mode='extended',\n",
        "                #                      lang='en',\n",
        "                #                      place=places[0].id\n",
        "                #                      )\n",
        "\n",
        "                # print (results)\n",
        "\n",
        "                # tweets = results\n",
        "                # data = pd.DataFrame(data=[tweet.full_text for tweet in tweets], columns=['Tweets'])\n",
        "                # data.to_csv('output.csv')\n",
        "\n",
        "                # print the first 10 data\n",
        "                # print(data)"
      ],
      "metadata": {
        "id": "bctzS3YpdozR"
      },
      "execution_count": null,
      "outputs": []
    },
    {
      "cell_type": "code",
      "source": [
        "import nltk\n",
        "from nltk.sentiment import SentimentIntensityAnalyzer\n",
        "nltk.download('vader_lexicon')\n",
        "from collections import Counter\n",
        "\n",
        "def home():\n",
        "    pass\n",
        "\n",
        "sid = SentimentIntensityAnalyzer()\n",
        "dataset = [\"I love this product!\", \"This product is terrible.\", \"This product is just okay.\"]\n",
        "l = []\n",
        "counter = Counter()\n",
        "for data in dataset:\n",
        "    ss = sid.polarity_scores(data)\n",
        "    l.append(ss)\n",
        "    k = ss['compound']\n",
        "    if k >= 0.05:\n",
        "        counter['positive'] += 1\n",
        "    elif k <= -0.05:\n",
        "        counter['negative'] += 1\n",
        "    else:\n",
        "        counter['neutral'] += 1\n",
        "\n",
        "positive = counter['positive']\n",
        "negative = counter['negative']\n",
        "neutral = counter['neutral']\n",
        "\n",
        "app.secret_key = 'abcdefghijk'\n",
        "\n",
        "if __name__ == \"__main__\":\n",
        "    #session['searched'] = True\n",
        "    app.run(debug=True, host='0.0.0.0', port=4000)\n",
        "\n"
      ],
      "metadata": {
        "colab": {
          "base_uri": "https://localhost:8080/"
        },
        "id": "5MU5eZAXf-Ck",
        "outputId": "cbb7d3d8-9f78-4ef5-d744-2ae496810a4d"
      },
      "execution_count": 12,
      "outputs": [
        {
          "output_type": "stream",
          "name": "stdout",
          "text": [
            " * Serving Flask app '__main__'\n",
            " * Debug mode: on\n"
          ]
        },
        {
          "output_type": "stream",
          "name": "stderr",
          "text": [
            "[nltk_data] Downloading package vader_lexicon to /root/nltk_data...\n",
            "INFO:werkzeug:\u001b[31m\u001b[1mWARNING: This is a development server. Do not use it in a production deployment. Use a production WSGI server instead.\u001b[0m\n",
            " * Running on all addresses (0.0.0.0)\n",
            " * Running on http://127.0.0.1:4000\n",
            " * Running on http://172.28.0.12:4000\n",
            "INFO:werkzeug:\u001b[33mPress CTRL+C to quit\u001b[0m\n",
            "INFO:werkzeug: * Restarting with stat\n"
          ]
        }
      ]
    },
    {
      "cell_type": "code",
      "source": [],
      "metadata": {
        "id": "pIVpXzOpembp"
      },
      "execution_count": null,
      "outputs": []
    },
    {
      "cell_type": "code",
      "source": [
        "import config"
      ],
      "metadata": {
        "id": "nfi93DeqSxso"
      },
      "execution_count": 13,
      "outputs": []
    },
    {
      "cell_type": "code",
      "execution_count": 14,
      "metadata": {
        "id": "glLu4IBCFh64"
      },
      "outputs": [],
      "source": [
        "import tweepy\n",
        "import pandas as pd\n",
        "import sys\n",
        "import csv\n",
        "import pickle\n",
        "from nltk.sentiment.vader import SentimentIntensityAnalyzer\n",
        "import matplotlib.pyplot as plt\n",
        "from collections import Counter"
      ]
    },
    {
      "cell_type": "code",
      "source": [
        "if sys.version_info[0] < 3:\n",
        "    input = raw_input"
      ],
      "metadata": {
        "id": "XaWeAzHkFlpU"
      },
      "execution_count": 15,
      "outputs": []
    },
    {
      "cell_type": "code",
      "source": [
        "import tweepy\n",
        "import time\n",
        "import pycurl\n",
        "import urllib\n",
        "import json\n",
        "import oauth2 as oauth"
      ],
      "metadata": {
        "id": "v7J8z2dwJDcB"
      },
      "execution_count": 16,
      "outputs": []
    },
    {
      "cell_type": "code",
      "source": [
        "# importing the auth variables from secret.py\n",
        "import secret"
      ],
      "metadata": {
        "id": "np3XcNXUFljS"
      },
      "execution_count": 17,
      "outputs": []
    },
    {
      "cell_type": "code",
      "source": [
        "import twitter"
      ],
      "metadata": {
        "id": "U3HA9v_CTycC"
      },
      "execution_count": 18,
      "outputs": []
    },
    {
      "cell_type": "code",
      "source": [
        "import sys\n",
        "sys.path.append(\"/path/to/config.config/module\")\n"
      ],
      "metadata": {
        "id": "hjJEkWUiSOM4"
      },
      "execution_count": 19,
      "outputs": []
    },
    {
      "cell_type": "code",
      "source": [
        "#from config.config import consumer_secret, consumer_key, secret, token\n",
        "import tweepy\n",
        "from tweepy.auth import OAuthHandler\n",
        "from tweepy import API\n",
        "from tweepy import OAuthHandler"
      ],
      "metadata": {
        "id": "eesbYMEfReVf"
      },
      "execution_count": 20,
      "outputs": []
    },
    {
      "cell_type": "code",
      "source": [
        "import tweepy\n",
        "consumer_key = 'your_consumer_key'\n",
        "consumer_secret = 'your_consumer_secret'\n",
        "access_token = 'your_access_token'\n",
        "access_token_secret = 'your_access_token_secret'\n",
        "\n",
        "# Authenicating with authentication variables\n",
        "auth = tweepy.OAuthHandler(consumer_key, consumer_secret)\n",
        "auth.set_access_token(access_token, access_token_secret)\n",
        "api = tweepy.API(auth=None, cache=None, host='api.twitter.com', parser=None, \n",
        "                 proxy=None, retry_count=0, retry_delay=0, retry_errors=None, \n",
        "                 timeout=60, upload_host='upload.twitter.com', user_agent=None, wait_on_rate_limit=False)\n",
        "\n",
        "# Error handling\n",
        "try:\n",
        "    api.verify_credentials()\n",
        "    print(\"Authentication OK\")\n",
        "except Exception as e:\n",
        "    print(\"Error during authentication:\", str(e))\n",
        "    exit()"
      ],
      "metadata": {
        "colab": {
          "base_uri": "https://localhost:8080/"
        },
        "id": "KxmPoaH9WSWK",
        "outputId": "245b6ca3-dd49-46db-94a7-eee2a8bcf22d"
      },
      "execution_count": 21,
      "outputs": [
        {
          "output_type": "stream",
          "name": "stdout",
          "text": [
            "Error during authentication: Authentication required!\n"
          ]
        }
      ]
    },
    {
      "cell_type": "code",
      "source": [
        "# inputs for counts taken\n",
        "hash_tag = input(\"Which party you want to search ? \\n\")\n",
        "number = int(input(\"How many Tweets do you want to analyze? \\n\"))\n",
        "location = input(\"What is the location of party? \\n\")\n",
        "\n",
        "# Getting Geo ID for Places\n",
        "places = api.geo_search(query=location)\n",
        "# place id\n",
        "print(places[0])"
      ],
      "metadata": {
        "colab": {
          "base_uri": "https://localhost:8080/",
          "height": 339
        },
        "id": "jfkEtPMRWSHs",
        "outputId": "4f886eab-0a90-4c0e-b11e-8c18a06b0d17"
      },
      "execution_count": 1,
      "outputs": [
        {
          "name": "stdout",
          "output_type": "stream",
          "text": [
            "Which party you want to search ? \n",
            "bjp\n",
            "How many Tweets do you want to analyze? \n",
            "30\n",
            "What is the location of party? \n",
            "mumbai\n"
          ]
        },
        {
          "output_type": "error",
          "ename": "NameError",
          "evalue": "ignored",
          "traceback": [
            "\u001b[0;31m---------------------------------------------------------------------------\u001b[0m",
            "\u001b[0;31mNameError\u001b[0m                                 Traceback (most recent call last)",
            "\u001b[0;32m<ipython-input-1-a8b501f5282d>\u001b[0m in \u001b[0;36m<cell line: 7>\u001b[0;34m()\u001b[0m\n\u001b[1;32m      5\u001b[0m \u001b[0;34m\u001b[0m\u001b[0m\n\u001b[1;32m      6\u001b[0m \u001b[0;31m# Getting Geo ID for Places\u001b[0m\u001b[0;34m\u001b[0m\u001b[0;34m\u001b[0m\u001b[0m\n\u001b[0;32m----> 7\u001b[0;31m \u001b[0mplaces\u001b[0m \u001b[0;34m=\u001b[0m \u001b[0mapi\u001b[0m\u001b[0;34m.\u001b[0m\u001b[0mgeo_search\u001b[0m\u001b[0;34m(\u001b[0m\u001b[0mquery\u001b[0m\u001b[0;34m=\u001b[0m\u001b[0mlocation\u001b[0m\u001b[0;34m)\u001b[0m\u001b[0;34m\u001b[0m\u001b[0;34m\u001b[0m\u001b[0m\n\u001b[0m\u001b[1;32m      8\u001b[0m \u001b[0;31m# place id\u001b[0m\u001b[0;34m\u001b[0m\u001b[0;34m\u001b[0m\u001b[0m\n\u001b[1;32m      9\u001b[0m \u001b[0mprint\u001b[0m\u001b[0;34m(\u001b[0m\u001b[0mplaces\u001b[0m\u001b[0;34m[\u001b[0m\u001b[0;36m0\u001b[0m\u001b[0;34m]\u001b[0m\u001b[0;34m)\u001b[0m\u001b[0;34m\u001b[0m\u001b[0;34m\u001b[0m\u001b[0m\n",
            "\u001b[0;31mNameError\u001b[0m: name 'api' is not defined"
          ]
        }
      ]
    },
    {
      "cell_type": "code",
      "source": [
        "\n",
        "tweetsPerQry = 100  # this is the max the API permits"
      ],
      "metadata": {
        "id": "a7NEkjgrX9Pl"
      },
      "execution_count": 2,
      "outputs": []
    },
    {
      "cell_type": "code",
      "source": [
        "# If results from a specific ID onwards are reqd, set since_id to that ID.\n",
        "# else default to no lower limit, go as far back as API allows\n",
        "sinceId = None"
      ],
      "metadata": {
        "id": "lgRDXn8XX9p8"
      },
      "execution_count": 3,
      "outputs": []
    },
    {
      "cell_type": "code",
      "source": [
        "# If results only below a specific ID are, set max_id to that ID.\n",
        "# else default to no upper limit, start from the most recent tweet matching the search query.\n",
        "max_id = -1\n",
        "data = None\n",
        "\n",
        "dataset = []\n",
        "outputFile = 'test.data'\n",
        "fw = open(outputFile, 'wb')"
      ],
      "metadata": {
        "id": "KgGvMnweX-Fc"
      },
      "execution_count": 4,
      "outputs": []
    },
    {
      "cell_type": "code",
      "source": [
        "tweetCount = 0\n",
        "print(\"Downloading max {0} tweets\".format(number))\n",
        "while tweetCount < number:\n",
        "    try:\n",
        "        if (max_id <= 0):\n",
        "            if (not sinceId):\n",
        "                new_tweets = api.search(q=hash_tag, count=tweetsPerQry, tweet_mode='extended', lang='en')\n",
        "                tweetCount += len(new_tweets)\n",
        "                print(\"Downloaded {0} tweets\".format(tweetCount))\n",
        "            else:\n",
        "                new_tweets = api.search(q=hash_tag, count=tweetsPerQry,\n",
        "                                        since_id=sinceId, tweet_mode='extended', lang='en')\n",
        "                print(\"here 2\")\n",
        "        else:\n",
        "            if (not sinceId):\n",
        "                new_tweets = api.search(q=hash_tag, count=tweetsPerQry,\n",
        "                                        max_id=str(max_id - 1), tweet_mode='extended', lang='en')\n",
        "                print(\"here 3\")\n",
        "            else:\n",
        "                new_tweets = api.search(q=hash_tag, count=tweetsPerQry,\n",
        "                                        max_id=str(max_id - 1),\n",
        "                                        since_id=sinceId, tweet_mode='extended', lang='en')\n",
        "                print(\"here 4\")\n",
        "            if not new_tweets:\n",
        "                print(\"No more tweets found\")\n",
        "                break\n",
        "\n",
        "        # print(new_tweets)\n",
        "\n",
        "        tweets = new_tweets\n",
        "        for tweet in tweets:\n",
        "            dataset.append(tweet.full_text)\n",
        "        #data += pd.DataFrame(data=[tweet.text for tweet in tweets], columns=['Tweets'])\n",
        "        tweetCount += len(new_tweets)\n",
        "        print(\"Downloaded {0} tweets\".format(tweetCount))\n",
        "        max_id = new_tweets[-1].id\n",
        "    except tweepy.TweepError as e:\n",
        "        print(str(e))\n",
        "        break\n",
        "\n",
        "\n",
        "pickle.dump(dataset, fw)\n",
        "fw.close()"
      ],
      "metadata": {
        "colab": {
          "base_uri": "https://localhost:8080/",
          "height": 426
        },
        "id": "6ugg7g2zZN-K",
        "outputId": "9a953c10-7179-46bc-f618-2bed7fd79f42"
      },
      "execution_count": 5,
      "outputs": [
        {
          "output_type": "stream",
          "name": "stdout",
          "text": [
            "Downloading max 30 tweets\n"
          ]
        },
        {
          "output_type": "error",
          "ename": "NameError",
          "evalue": "ignored",
          "traceback": [
            "\u001b[0;31m---------------------------------------------------------------------------\u001b[0m",
            "\u001b[0;31mNameError\u001b[0m                                 Traceback (most recent call last)",
            "\u001b[0;32m<ipython-input-5-15c22005fad3>\u001b[0m in \u001b[0;36m<cell line: 3>\u001b[0;34m()\u001b[0m\n\u001b[1;32m      6\u001b[0m             \u001b[0;32mif\u001b[0m \u001b[0;34m(\u001b[0m\u001b[0;32mnot\u001b[0m \u001b[0msinceId\u001b[0m\u001b[0;34m)\u001b[0m\u001b[0;34m:\u001b[0m\u001b[0;34m\u001b[0m\u001b[0;34m\u001b[0m\u001b[0m\n\u001b[0;32m----> 7\u001b[0;31m                 \u001b[0mnew_tweets\u001b[0m \u001b[0;34m=\u001b[0m \u001b[0mapi\u001b[0m\u001b[0;34m.\u001b[0m\u001b[0msearch\u001b[0m\u001b[0;34m(\u001b[0m\u001b[0mq\u001b[0m\u001b[0;34m=\u001b[0m\u001b[0mhash_tag\u001b[0m\u001b[0;34m,\u001b[0m \u001b[0mcount\u001b[0m\u001b[0;34m=\u001b[0m\u001b[0mtweetsPerQry\u001b[0m\u001b[0;34m,\u001b[0m \u001b[0mtweet_mode\u001b[0m\u001b[0;34m=\u001b[0m\u001b[0;34m'extended'\u001b[0m\u001b[0;34m,\u001b[0m \u001b[0mlang\u001b[0m\u001b[0;34m=\u001b[0m\u001b[0;34m'en'\u001b[0m\u001b[0;34m)\u001b[0m\u001b[0;34m\u001b[0m\u001b[0;34m\u001b[0m\u001b[0m\n\u001b[0m\u001b[1;32m      8\u001b[0m                 \u001b[0mtweetCount\u001b[0m \u001b[0;34m+=\u001b[0m \u001b[0mlen\u001b[0m\u001b[0;34m(\u001b[0m\u001b[0mnew_tweets\u001b[0m\u001b[0;34m)\u001b[0m\u001b[0;34m\u001b[0m\u001b[0;34m\u001b[0m\u001b[0m\n",
            "\u001b[0;31mNameError\u001b[0m: name 'api' is not defined",
            "\nDuring handling of the above exception, another exception occurred:\n",
            "\u001b[0;31mNameError\u001b[0m                                 Traceback (most recent call last)",
            "\u001b[0;32m<ipython-input-5-15c22005fad3>\u001b[0m in \u001b[0;36m<cell line: 3>\u001b[0;34m()\u001b[0m\n\u001b[1;32m     35\u001b[0m         \u001b[0mprint\u001b[0m\u001b[0;34m(\u001b[0m\u001b[0;34m\"Downloaded {0} tweets\"\u001b[0m\u001b[0;34m.\u001b[0m\u001b[0mformat\u001b[0m\u001b[0;34m(\u001b[0m\u001b[0mtweetCount\u001b[0m\u001b[0;34m)\u001b[0m\u001b[0;34m)\u001b[0m\u001b[0;34m\u001b[0m\u001b[0;34m\u001b[0m\u001b[0m\n\u001b[1;32m     36\u001b[0m         \u001b[0mmax_id\u001b[0m \u001b[0;34m=\u001b[0m \u001b[0mnew_tweets\u001b[0m\u001b[0;34m[\u001b[0m\u001b[0;34m-\u001b[0m\u001b[0;36m1\u001b[0m\u001b[0;34m]\u001b[0m\u001b[0;34m.\u001b[0m\u001b[0mid\u001b[0m\u001b[0;34m\u001b[0m\u001b[0;34m\u001b[0m\u001b[0m\n\u001b[0;32m---> 37\u001b[0;31m     \u001b[0;32mexcept\u001b[0m \u001b[0mtweepy\u001b[0m\u001b[0;34m.\u001b[0m\u001b[0mTweepError\u001b[0m \u001b[0;32mas\u001b[0m \u001b[0me\u001b[0m\u001b[0;34m:\u001b[0m\u001b[0;34m\u001b[0m\u001b[0;34m\u001b[0m\u001b[0m\n\u001b[0m\u001b[1;32m     38\u001b[0m         \u001b[0mprint\u001b[0m\u001b[0;34m(\u001b[0m\u001b[0mstr\u001b[0m\u001b[0;34m(\u001b[0m\u001b[0me\u001b[0m\u001b[0;34m)\u001b[0m\u001b[0;34m)\u001b[0m\u001b[0;34m\u001b[0m\u001b[0;34m\u001b[0m\u001b[0m\n\u001b[1;32m     39\u001b[0m         \u001b[0;32mbreak\u001b[0m\u001b[0;34m\u001b[0m\u001b[0;34m\u001b[0m\u001b[0m\n",
            "\u001b[0;31mNameError\u001b[0m: name 'tweepy' is not defined"
          ]
        }
      ]
    },
    {
      "cell_type": "code",
      "source": [
        "# search tweets with some keywords\n",
        "# results = api.search(hash_tag,\n",
        "#                      count=number,\n",
        "#                      since=\"2019-03-04\",\n",
        "# \t\t\t\t\t until=\"2019-03-05\",\n",
        "#                      tweet_mode='extended',\n",
        "#                      lang='en',\n",
        "#                      place=places[0].id\n",
        "#                      )\n",
        "\n",
        "# print (results)\n",
        "\n",
        "# tweets = results\n",
        "# data = pd.DataFrame(data=[tweet.full_text for tweet in tweets], columns=['Tweets'])\n",
        "# data.to_csv('output.csv')\n",
        "\n",
        "# print the first 10 data\n",
        "# print(data)"
      ],
      "metadata": {
        "id": "XC1_rX3wZS8t"
      },
      "execution_count": 6,
      "outputs": []
    },
    {
      "cell_type": "code",
      "source": [
        "import nltk\n",
        "from nltk.sentiment import SentimentIntensityAnalyzer\n",
        "nltk.download('vader_lexicon')\n",
        "from collections import Counter\n",
        "\n",
        "def home():\n",
        "    pass\n",
        "\n",
        "sid = SentimentIntensityAnalyzer()\n",
        "dataset = [\"I love this product!\", \"This product is terrible.\", \"This product is just okay.\"]\n"
      ],
      "metadata": {
        "colab": {
          "base_uri": "https://localhost:8080/"
        },
        "id": "LysAHa43kprR",
        "outputId": "b5b0b7c2-a2f0-4a20-cdc3-f9975e32e1c3"
      },
      "execution_count": 7,
      "outputs": [
        {
          "output_type": "stream",
          "name": "stderr",
          "text": [
            "[nltk_data] Downloading package vader_lexicon to /root/nltk_data...\n",
            "[nltk_data]   Package vader_lexicon is already up-to-date!\n"
          ]
        }
      ]
    },
    {
      "cell_type": "code",
      "source": [
        "import matplotlib.pyplot as plt\n"
      ],
      "metadata": {
        "id": "J0L0prx8kx9U"
      },
      "execution_count": 8,
      "outputs": []
    },
    {
      "cell_type": "code",
      "source": [
        "l = []\n",
        "counter = Counter()\n",
        "\n",
        "for data in dataset:\n",
        "    ss = sid.polarity_scores(data)\n",
        "    l.append(ss)\n",
        "    k = ss['compound']\n",
        "    if k >= 0.05:\n",
        "        counter['positive'] += 1\n",
        "    elif k <= -0.05:\n",
        "        counter['negative'] += 1\n",
        "    else:\n",
        "        counter['neutral'] += 1\n",
        "\n",
        "positive = counter['positive']\n",
        "negative = counter['negative']\n",
        "neutral = counter['neutral']\n",
        "\n",
        "colors = ['green', 'red', 'grey']\n",
        "sizes = [positive, negative, neutral]\n",
        "labels = 'Positive', 'Negative', 'Neutral'\n",
        "\n",
        "# use matplotlib to plot the chart\n",
        "plt.pie(\n",
        "    x=sizes,\n",
        "    shadow=True,\n",
        "    colors=colors,\n",
        "    labels=labels,\n",
        "    startangle=90,\n",
        "    autopct='%.1f%%'\n",
        ")\n",
        "\n",
        "plt.title(\"Sentiment of {} Tweets about {}\".format(number, hash_tag))\n",
        "plt.show()"
      ],
      "metadata": {
        "colab": {
          "base_uri": "https://localhost:8080/",
          "height": 428
        },
        "id": "4aUrRNCdcGKC",
        "outputId": "f2bb2c3d-df53-4a49-c133-ce11997495dd"
      },
      "execution_count": 9,
      "outputs": [
        {
          "output_type": "display_data",
          "data": {
            "text/plain": [
              "<Figure size 640x480 with 1 Axes>"
            ],
            "image/png": "[encoded data removed]"
          },
          "metadata": {}
        }
      ]
    },
    {
      "cell_type": "code",
      "source": [],
      "metadata": {
        "id": "Q9iggJAgctuR"
      },
      "execution_count": null,
      "outputs": []
    },
    {
      "cell_type": "code",
      "source": [],
      "metadata": {
        "id": "POJQEU39Zb5b"
      },
      "execution_count": null,
      "outputs": []
    },
    {
      "cell_type": "code",
      "source": [],
      "metadata": {
        "id": "NIy799fNeTHl"
      },
      "execution_count": null,
      "outputs": []
    }
  ]
}